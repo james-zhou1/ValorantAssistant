{
 "cells": [
  {
   "cell_type": "code",
   "execution_count": 1,
   "metadata": {},
   "outputs": [
    {
     "name": "stdout",
     "output_type": "stream",
     "text": [
      "Defaulting to user installation because normal site-packages is not writeable\n",
      "Requirement already satisfied: requests in c:\\users\\evan3\\appdata\\local\\packages\\pythonsoftwarefoundation.python.3.12_qbz5n2kfra8p0\\localcache\\local-packages\\python312\\site-packages (2.32.2)\n",
      "Requirement already satisfied: charset-normalizer<4,>=2 in c:\\users\\evan3\\appdata\\local\\packages\\pythonsoftwarefoundation.python.3.12_qbz5n2kfra8p0\\localcache\\local-packages\\python312\\site-packages (from requests) (3.3.2)\n",
      "Requirement already satisfied: idna<4,>=2.5 in c:\\users\\evan3\\appdata\\local\\packages\\pythonsoftwarefoundation.python.3.12_qbz5n2kfra8p0\\localcache\\local-packages\\python312\\site-packages (from requests) (3.7)\n",
      "Requirement already satisfied: urllib3<3,>=1.21.1 in c:\\users\\evan3\\appdata\\local\\packages\\pythonsoftwarefoundation.python.3.12_qbz5n2kfra8p0\\localcache\\local-packages\\python312\\site-packages (from requests) (2.2.1)\n",
      "Requirement already satisfied: certifi>=2017.4.17 in c:\\users\\evan3\\appdata\\local\\packages\\pythonsoftwarefoundation.python.3.12_qbz5n2kfra8p0\\localcache\\local-packages\\python312\\site-packages (from requests) (2024.2.2)\n"
     ]
    }
   ],
   "source": [
    "!pip install requests\n",
    "import requests\n",
    "import os"
   ]
  },
  {
   "cell_type": "code",
   "execution_count": 2,
   "metadata": {},
   "outputs": [],
   "source": [
    "api_key = 'HDEV-0465ed95-8059-4c6d-b08f-40831d5c957d'\n",
    "name = \"kingston\"\n",
    "tag = \"sigma\""
   ]
  },
  {
   "cell_type": "code",
   "execution_count": 3,
   "metadata": {},
   "outputs": [
    {
     "name": "stdout",
     "output_type": "stream",
     "text": [
      "19fb88af-3691-5f56-81f4-9a57ba81ff43\n"
     ]
    }
   ],
   "source": [
    "def get_puuid(name, tag, api_key):\n",
    "    url = f\"https://api.henrikdev.xyz/valorant/v1/account/{name}/{tag}\"\n",
    "    headers = {'Authorization': f'{api_key}'}\n",
    "    response = requests.get(url, headers=headers)\n",
    "    if response.status_code == 200:\n",
    "        return response.json()\n",
    "    else:\n",
    "        print(f\"Failed to fetch puuid: {response.status_code}\")\n",
    "        error = response.json()['errors'][0]['message']\n",
    "        details= response.json()['errors'][0]['details']\n",
    "        code = response.json()['status']\n",
    "        if details == \"null\":\n",
    "            details = \"\"     \n",
    "        else:\n",
    "            details = f\"Details: {details}\"\n",
    "        response_message = f\"{error} Code:{code}....{details}\"\n",
    "        return response_message\n",
    "\n",
    "puuid = get_puuid(name, tag, api_key)['data']['puuid']\n",
    "print(puuid)"
   ]
  },
  {
   "cell_type": "code",
   "execution_count": 4,
   "metadata": {},
   "outputs": [
    {
     "name": "stdout",
     "output_type": "stream",
     "text": [
      "<class 'dict'>\n"
     ]
    }
   ],
   "source": [
    "def get_matchlist(puuid, api_key):\n",
    "    url = f\"https://api.henrikdev.xyz/valorant/v3/by-puuid/matches/na/{puuid}\"\n",
    "    headers = {\n",
    "        'Authorization': f'{api_key}'\n",
    "    }\n",
    "    response = requests.get(url, headers=headers)\n",
    "    if response.status_code == 200:\n",
    "        return response.json()\n",
    "    else:\n",
    "        print(f\"Failed to fetch matchlist: {response.status_code}\")\n",
    "        error = response.json()['errors'][0]['message']\n",
    "        details= response.json()['errors'][0]['details']\n",
    "        code = response.json()['status']\n",
    "        if details == \"null\":\n",
    "            details = \"\"     \n",
    "        else:\n",
    "            details = f\"Details: {details}\"\n",
    "        response_message = f\"{error} Code:{code}....{details}\"\n",
    "        return response_message\n",
    "    \n",
    "matchlist = get_matchlist(puuid, api_key)\n",
    "print(type(matchlist))"
   ]
  },
  {
   "cell_type": "code",
   "execution_count": 5,
   "metadata": {},
   "outputs": [
    {
     "name": "stdout",
     "output_type": "stream",
     "text": [
      "Data exported to data/name/kingston.json\n",
      "Data exported to data/name/kingston_matchlist.json\n"
     ]
    }
   ],
   "source": [
    "import json  # Make sure to import the json module\n",
    "\n",
    "def export_to_file(data, folder, filename):\n",
    "    os.makedirs(folder, exist_ok=True)\n",
    "    file_path = os.path.join(folder, filename)\n",
    "    with open(file_path, 'w', encoding='utf-8') as file:\n",
    "        json.dump(data, file, indent=4)  # Serialize data to JSON formatted string with indentation for readability\n",
    "    print(f\"Data exported to {file_path}\")\n",
    "\n",
    "# Assuming `puuid` and `matchlist` are already in a suitable dictionary format for JSON serialization\n",
    "export_to_file(puuid, \"data/name/\", f\"{name}.json\")\n",
    "export_to_file(matchlist, \"data/name/\", f\"{name}_matchlist.json\")"
   ]
  },
  {
   "cell_type": "code",
   "execution_count": 6,
   "metadata": {},
   "outputs": [
    {
     "name": "stdout",
     "output_type": "stream",
     "text": [
      "Data exported to data/name/kingston_mmr.json\n",
      "{'status': 200, 'data': {'name': 'kingston', 'tag': 'sigma', 'current_data': {'currenttier': 13, 'currenttierpatched': 'Gold 2', 'images': {'small': 'https://media.valorant-api.com/competitivetiers/03621f52-342b-cf4e-4f86-9350a49c6d04/13/smallicon.png', 'large': 'https://media.valorant-api.com/competitivetiers/03621f52-342b-cf4e-4f86-9350a49c6d04/13/largeicon.png', 'triangle_down': 'https://media.valorant-api.com/competitivetiers/03621f52-342b-cf4e-4f86-9350a49c6d04/13/ranktriangledownicon.png', 'triangle_up': 'https://media.valorant-api.com/competitivetiers/03621f52-342b-cf4e-4f86-9350a49c6d04/13/ranktriangleupicon.png'}, 'ranking_in_tier': 15, 'mmr_change_to_last_game': 32, 'elo': 1015, 'games_needed_for_rating': 0, 'old': False}, 'highest_rank': {'old': False, 'tier': 18, 'patched_tier': 'Diamond 1', 'season': 'e5a1', 'converted': 18}, 'by_season': {'e1a1': {'error': 'No data Available'}, 'e1a2': {'error': 'No data Available'}, 'e1a3': {'error': 'No data Available'}, 'e2a1': {'error': 'No data Available'}, 'e2a2': {'error': 'No data Available'}, 'e2a3': {'wins': 20, 'number_of_games': 37, 'final_rank': 7, 'final_rank_patched': 'Bronze 2', 'act_rank_wins': [{'patched_tier': 'Bronze 2', 'tier': 7}, {'patched_tier': 'Bronze 2', 'tier': 7}, {'patched_tier': 'Bronze 2', 'tier': 7}, {'patched_tier': 'Bronze 2', 'tier': 7}, {'patched_tier': 'Bronze 2', 'tier': 7}, {'patched_tier': 'Bronze 1', 'tier': 6}, {'patched_tier': 'Bronze 1', 'tier': 6}, {'patched_tier': 'Bronze 1', 'tier': 6}, {'patched_tier': 'Bronze 1', 'tier': 6}, {'patched_tier': 'Bronze 1', 'tier': 6}, {'patched_tier': 'Bronze 1', 'tier': 6}, {'patched_tier': 'Bronze 1', 'tier': 6}, {'patched_tier': 'Bronze 1', 'tier': 6}, {'patched_tier': 'Bronze 1', 'tier': 6}, {'patched_tier': 'Bronze 1', 'tier': 6}, {'patched_tier': 'Iron 3', 'tier': 5}, {'patched_tier': 'Iron 3', 'tier': 5}, {'patched_tier': 'Iron 3', 'tier': 5}, {'patched_tier': 'Iron 3', 'tier': 5}, {'patched_tier': 'Iron 3', 'tier': 5}], 'old': True}, 'e3a1': {'wins': 35, 'number_of_games': 73, 'final_rank': 9, 'final_rank_patched': 'Silver 1', 'act_rank_wins': [{'patched_tier': 'Silver 1', 'tier': 9}, {'patched_tier': 'Bronze 3', 'tier': 8}, {'patched_tier': 'Bronze 3', 'tier': 8}, {'patched_tier': 'Bronze 3', 'tier': 8}, {'patched_tier': 'Bronze 3', 'tier': 8}, {'patched_tier': 'Bronze 3', 'tier': 8}, {'patched_tier': 'Bronze 3', 'tier': 8}, {'patched_tier': 'Bronze 3', 'tier': 8}, {'patched_tier': 'Bronze 3', 'tier': 8}, {'patched_tier': 'Bronze 3', 'tier': 8}, {'patched_tier': 'Bronze 3', 'tier': 8}, {'patched_tier': 'Bronze 3', 'tier': 8}, {'patched_tier': 'Bronze 3', 'tier': 8}, {'patched_tier': 'Bronze 3', 'tier': 8}, {'patched_tier': 'Bronze 3', 'tier': 8}, {'patched_tier': 'Bronze 3', 'tier': 8}, {'patched_tier': 'Bronze 3', 'tier': 8}, {'patched_tier': 'Bronze 3', 'tier': 8}, {'patched_tier': 'Bronze 3', 'tier': 8}, {'patched_tier': 'Bronze 3', 'tier': 8}, {'patched_tier': 'Bronze 3', 'tier': 8}, {'patched_tier': 'Bronze 3', 'tier': 8}, {'patched_tier': 'Bronze 3', 'tier': 8}, {'patched_tier': 'Bronze 3', 'tier': 8}, {'patched_tier': 'Bronze 2', 'tier': 7}, {'patched_tier': 'Bronze 2', 'tier': 7}, {'patched_tier': 'Bronze 2', 'tier': 7}, {'patched_tier': 'Bronze 2', 'tier': 7}, {'patched_tier': 'Bronze 2', 'tier': 7}, {'patched_tier': 'Bronze 2', 'tier': 7}, {'patched_tier': 'Bronze 2', 'tier': 7}, {'patched_tier': 'Bronze 2', 'tier': 7}, {'patched_tier': 'Bronze 2', 'tier': 7}, {'patched_tier': 'Bronze 2', 'tier': 7}, {'patched_tier': 'Bronze 2', 'tier': 7}, {'patched_tier': 'Unrated', 'tier': 0}], 'old': True}, 'e3a2': {'wins': 8, 'number_of_games': 16, 'final_rank': 9, 'final_rank_patched': 'Silver 1', 'act_rank_wins': [{'patched_tier': 'Silver 1', 'tier': 9}, {'patched_tier': 'Silver 1', 'tier': 9}, {'patched_tier': 'Silver 1', 'tier': 9}, {'patched_tier': 'Bronze 3', 'tier': 8}, {'patched_tier': 'Bronze 3', 'tier': 8}, {'patched_tier': 'Bronze 3', 'tier': 8}, {'patched_tier': 'Bronze 3', 'tier': 8}, {'patched_tier': 'Bronze 3', 'tier': 8}], 'old': True}, 'e3a3': {'wins': 9, 'number_of_games': 21, 'final_rank': 9, 'final_rank_patched': 'Silver 1', 'act_rank_wins': [{'patched_tier': 'Silver 1', 'tier': 9}, {'patched_tier': 'Silver 1', 'tier': 9}, {'patched_tier': 'Silver 1', 'tier': 9}, {'patched_tier': 'Silver 1', 'tier': 9}, {'patched_tier': 'Silver 1', 'tier': 9}, {'patched_tier': 'Bronze 3', 'tier': 8}, {'patched_tier': 'Bronze 3', 'tier': 8}, {'patched_tier': 'Bronze 3', 'tier': 8}, {'patched_tier': 'Bronze 3', 'tier': 8}], 'old': True}, 'e4a1': {'wins': 23, 'number_of_games': 39, 'final_rank': 9, 'final_rank_patched': 'Silver 1', 'act_rank_wins': [{'patched_tier': 'Silver 1', 'tier': 9}, {'patched_tier': 'Bronze 3', 'tier': 8}, {'patched_tier': 'Bronze 3', 'tier': 8}, {'patched_tier': 'Bronze 3', 'tier': 8}, {'patched_tier': 'Bronze 3', 'tier': 8}, {'patched_tier': 'Bronze 3', 'tier': 8}, {'patched_tier': 'Bronze 3', 'tier': 8}, {'patched_tier': 'Bronze 3', 'tier': 8}, {'patched_tier': 'Bronze 3', 'tier': 8}, {'patched_tier': 'Bronze 3', 'tier': 8}, {'patched_tier': 'Bronze 3', 'tier': 8}, {'patched_tier': 'Bronze 2', 'tier': 7}, {'patched_tier': 'Bronze 2', 'tier': 7}, {'patched_tier': 'Bronze 2', 'tier': 7}, {'patched_tier': 'Bronze 2', 'tier': 7}, {'patched_tier': 'Bronze 2', 'tier': 7}, {'patched_tier': 'Bronze 2', 'tier': 7}, {'patched_tier': 'Bronze 2', 'tier': 7}, {'patched_tier': 'Bronze 2', 'tier': 7}, {'patched_tier': 'Bronze 2', 'tier': 7}, {'patched_tier': 'Bronze 1', 'tier': 6}, {'patched_tier': 'Bronze 1', 'tier': 6}, {'patched_tier': 'Bronze 1', 'tier': 6}, {'patched_tier': 'Unrated', 'tier': 0}, {'patched_tier': 'Unrated', 'tier': 0}], 'old': True}, 'e4a2': {'wins': 43, 'number_of_games': 79, 'final_rank': 11, 'final_rank_patched': 'Silver 3', 'act_rank_wins': [{'patched_tier': 'Silver 3', 'tier': 11}, {'patched_tier': 'Silver 3', 'tier': 11}, {'patched_tier': 'Silver 3', 'tier': 11}, {'patched_tier': 'Silver 2', 'tier': 10}, {'patched_tier': 'Silver 2', 'tier': 10}, {'patched_tier': 'Silver 2', 'tier': 10}, {'patched_tier': 'Silver 2', 'tier': 10}, {'patched_tier': 'Silver 2', 'tier': 10}, {'patched_tier': 'Silver 2', 'tier': 10}, {'patched_tier': 'Silver 2', 'tier': 10}, {'patched_tier': 'Silver 2', 'tier': 10}, {'patched_tier': 'Silver 2', 'tier': 10}, {'patched_tier': 'Silver 2', 'tier': 10}, {'patched_tier': 'Silver 2', 'tier': 10}, {'patched_tier': 'Silver 2', 'tier': 10}, {'patched_tier': 'Silver 2', 'tier': 10}, {'patched_tier': 'Silver 2', 'tier': 10}, {'patched_tier': 'Silver 2', 'tier': 10}, {'patched_tier': 'Silver 2', 'tier': 10}, {'patched_tier': 'Silver 2', 'tier': 10}, {'patched_tier': 'Silver 2', 'tier': 10}, {'patched_tier': 'Silver 2', 'tier': 10}, {'patched_tier': 'Silver 2', 'tier': 10}, {'patched_tier': 'Silver 1', 'tier': 9}, {'patched_tier': 'Silver 1', 'tier': 9}, {'patched_tier': 'Silver 1', 'tier': 9}, {'patched_tier': 'Silver 1', 'tier': 9}, {'patched_tier': 'Silver 1', 'tier': 9}, {'patched_tier': 'Silver 1', 'tier': 9}, {'patched_tier': 'Silver 1', 'tier': 9}, {'patched_tier': 'Silver 1', 'tier': 9}, {'patched_tier': 'Silver 1', 'tier': 9}, {'patched_tier': 'Silver 1', 'tier': 9}, {'patched_tier': 'Silver 1', 'tier': 9}, {'patched_tier': 'Silver 1', 'tier': 9}, {'patched_tier': 'Silver 1', 'tier': 9}, {'patched_tier': 'Silver 1', 'tier': 9}, {'patched_tier': 'Silver 1', 'tier': 9}, {'patched_tier': 'Silver 1', 'tier': 9}, {'patched_tier': 'Silver 1', 'tier': 9}, {'patched_tier': 'Bronze 3', 'tier': 8}, {'patched_tier': 'Bronze 3', 'tier': 8}, {'patched_tier': 'Bronze 3', 'tier': 8}], 'old': True}, 'e4a3': {'wins': 34, 'number_of_games': 62, 'final_rank': 13, 'final_rank_patched': 'Gold 2', 'act_rank_wins': [{'patched_tier': 'Gold 2', 'tier': 13}, {'patched_tier': 'Gold 2', 'tier': 13}, {'patched_tier': 'Gold 1', 'tier': 12}, {'patched_tier': 'Gold 1', 'tier': 12}, {'patched_tier': 'Gold 1', 'tier': 12}, {'patched_tier': 'Gold 1', 'tier': 12}, {'patched_tier': 'Gold 1', 'tier': 12}, {'patched_tier': 'Gold 1', 'tier': 12}, {'patched_tier': 'Gold 1', 'tier': 12}, {'patched_tier': 'Gold 1', 'tier': 12}, {'patched_tier': 'Gold 1', 'tier': 12}, {'patched_tier': 'Gold 1', 'tier': 12}, {'patched_tier': 'Silver 3', 'tier': 11}, {'patched_tier': 'Silver 3', 'tier': 11}, {'patched_tier': 'Silver 3', 'tier': 11}, {'patched_tier': 'Silver 3', 'tier': 11}, {'patched_tier': 'Silver 3', 'tier': 11}, {'patched_tier': 'Silver 3', 'tier': 11}, {'patched_tier': 'Silver 3', 'tier': 11}, {'patched_tier': 'Silver 3', 'tier': 11}, {'patched_tier': 'Silver 3', 'tier': 11}, {'patched_tier': 'Silver 3', 'tier': 11}, {'patched_tier': 'Silver 3', 'tier': 11}, {'patched_tier': 'Silver 3', 'tier': 11}, {'patched_tier': 'Silver 3', 'tier': 11}, {'patched_tier': 'Silver 3', 'tier': 11}, {'patched_tier': 'Silver 3', 'tier': 11}, {'patched_tier': 'Silver 3', 'tier': 11}, {'patched_tier': 'Silver 3', 'tier': 11}, {'patched_tier': 'Silver 3', 'tier': 11}, {'patched_tier': 'Silver 3', 'tier': 11}, {'patched_tier': 'Silver 3', 'tier': 11}, {'patched_tier': 'Silver 3', 'tier': 11}, {'patched_tier': 'Silver 3', 'tier': 11}], 'old': True}, 'e5a1': {'wins': 50, 'number_of_games': 107, 'final_rank': 16, 'final_rank_patched': 'Platinum 2', 'act_rank_wins': [{'patched_tier': 'Diamond 1', 'tier': 18}, {'patched_tier': 'Diamond 1', 'tier': 18}, {'patched_tier': 'Platinum 3', 'tier': 17}, {'patched_tier': 'Platinum 3', 'tier': 17}, {'patched_tier': 'Platinum 3', 'tier': 17}, {'patched_tier': 'Platinum 3', 'tier': 17}, {'patched_tier': 'Platinum 3', 'tier': 17}, {'patched_tier': 'Platinum 3', 'tier': 17}, {'patched_tier': 'Platinum 3', 'tier': 17}, {'patched_tier': 'Platinum 3', 'tier': 17}, {'patched_tier': 'Platinum 3', 'tier': 17}, {'patched_tier': 'Platinum 3', 'tier': 17}, {'patched_tier': 'Platinum 3', 'tier': 17}, {'patched_tier': 'Platinum 2', 'tier': 16}, {'patched_tier': 'Platinum 2', 'tier': 16}, {'patched_tier': 'Platinum 2', 'tier': 16}, {'patched_tier': 'Platinum 2', 'tier': 16}, {'patched_tier': 'Platinum 2', 'tier': 16}, {'patched_tier': 'Platinum 2', 'tier': 16}, {'patched_tier': 'Platinum 2', 'tier': 16}, {'patched_tier': 'Platinum 2', 'tier': 16}, {'patched_tier': 'Platinum 1', 'tier': 15}, {'patched_tier': 'Platinum 1', 'tier': 15}, {'patched_tier': 'Platinum 1', 'tier': 15}, {'patched_tier': 'Platinum 1', 'tier': 15}, {'patched_tier': 'Platinum 1', 'tier': 15}, {'patched_tier': 'Platinum 1', 'tier': 15}, {'patched_tier': 'Platinum 1', 'tier': 15}, {'patched_tier': 'Platinum 1', 'tier': 15}, {'patched_tier': 'Platinum 1', 'tier': 15}, {'patched_tier': 'Platinum 1', 'tier': 15}, {'patched_tier': 'Platinum 1', 'tier': 15}, {'patched_tier': 'Platinum 1', 'tier': 15}, {'patched_tier': 'Platinum 1', 'tier': 15}, {'patched_tier': 'Platinum 1', 'tier': 15}, {'patched_tier': 'Platinum 1', 'tier': 15}, {'patched_tier': 'Platinum 1', 'tier': 15}, {'patched_tier': 'Platinum 1', 'tier': 15}, {'patched_tier': 'Platinum 1', 'tier': 15}, {'patched_tier': 'Platinum 1', 'tier': 15}, {'patched_tier': 'Gold 3', 'tier': 14}, {'patched_tier': 'Gold 3', 'tier': 14}, {'patched_tier': 'Gold 3', 'tier': 14}, {'patched_tier': 'Gold 3', 'tier': 14}, {'patched_tier': 'Gold 3', 'tier': 14}, {'patched_tier': 'Gold 3', 'tier': 14}, {'patched_tier': 'Gold 3', 'tier': 14}, {'patched_tier': 'Gold 3', 'tier': 14}, {'patched_tier': 'Gold 3', 'tier': 14}, {'patched_tier': 'Gold 3', 'tier': 14}, {'patched_tier': 'Unrated', 'tier': 0}, {'patched_tier': 'Unrated', 'tier': 0}, {'patched_tier': 'Unrated', 'tier': 0}], 'old': False}, 'e5a2': {'wins': 17, 'number_of_games': 33, 'final_rank': 17, 'final_rank_patched': 'Platinum 3', 'act_rank_wins': [{'patched_tier': 'Diamond 1', 'tier': 18}, {'patched_tier': 'Diamond 1', 'tier': 18}, {'patched_tier': 'Platinum 3', 'tier': 17}, {'patched_tier': 'Platinum 3', 'tier': 17}, {'patched_tier': 'Platinum 3', 'tier': 17}, {'patched_tier': 'Platinum 3', 'tier': 17}, {'patched_tier': 'Platinum 3', 'tier': 17}, {'patched_tier': 'Platinum 3', 'tier': 17}, {'patched_tier': 'Platinum 3', 'tier': 17}, {'patched_tier': 'Platinum 3', 'tier': 17}, {'patched_tier': 'Platinum 3', 'tier': 17}, {'patched_tier': 'Platinum 3', 'tier': 17}, {'patched_tier': 'Platinum 3', 'tier': 17}, {'patched_tier': 'Platinum 3', 'tier': 17}, {'patched_tier': 'Platinum 3', 'tier': 17}, {'patched_tier': 'Platinum 3', 'tier': 17}, {'patched_tier': 'Platinum 2', 'tier': 16}], 'old': False}, 'e5a3': {'wins': 2, 'number_of_games': 8, 'final_rank': 16, 'final_rank_patched': 'Platinum 2', 'act_rank_wins': [{'patched_tier': 'Platinum 3', 'tier': 17}, {'patched_tier': 'Platinum 2', 'tier': 16}], 'old': False}, 'e6a1': {'wins': 0, 'number_of_games': 1, 'final_rank': 0, 'final_rank_patched': 'Unrated', 'act_rank_wins': [{'patched_tier': 'Unrated', 'tier': 0}], 'old': False}, 'e6a2': {'error': 'No data Available'}, 'e6a3': {'error': 'No data Available'}, 'e7a1': {'error': 'No data Available'}, 'e7a2': {'error': 'No data Available'}, 'e7a3': {'error': 'No data Available'}, 'e8a1': {'error': 'No data Available'}, 'e8a2': {'error': 'No data Available'}, 'e8a3': {'wins': 15, 'number_of_games': 37, 'final_rank': 13, 'final_rank_patched': 'Gold 2', 'act_rank_wins': [{'patched_tier': 'Gold 2', 'tier': 13}, {'patched_tier': 'Gold 2', 'tier': 13}, {'patched_tier': 'Gold 2', 'tier': 13}, {'patched_tier': 'Gold 2', 'tier': 13}, {'patched_tier': 'Gold 1', 'tier': 12}, {'patched_tier': 'Gold 1', 'tier': 12}, {'patched_tier': 'Gold 1', 'tier': 12}, {'patched_tier': 'Gold 1', 'tier': 12}, {'patched_tier': 'Gold 1', 'tier': 12}, {'patched_tier': 'Gold 1', 'tier': 12}, {'patched_tier': 'Gold 1', 'tier': 12}, {'patched_tier': 'Gold 1', 'tier': 12}, {'patched_tier': 'Silver 3', 'tier': 11}, {'patched_tier': 'Silver 3', 'tier': 11}, {'patched_tier': 'Silver 3', 'tier': 11}, {'patched_tier': 'Unrated', 'tier': 0}], 'old': False}}}}\n"
     ]
    }
   ],
   "source": [
    "\n",
    "\n",
    "def get_mmr(puuid, api_key, affinity):\n",
    "\n",
    "    url = f\"https://api.henrikdev.xyz/valorant/v2/by-puuid/mmr/{affinity}/{puuid}\"\n",
    "\n",
    "    headers = {\n",
    "        'Authorization': f'{api_key}'\n",
    "    }\n",
    "\n",
    "    response = requests.get(url, headers=headers)\n",
    "    if response.status_code == 200:\n",
    "        return response.json()\n",
    "    else:\n",
    "        print(f\"Failed to fetch matchlist: {response.status_code}\")\n",
    "        error = response.json()['errors'][0]['message']\n",
    "        details= response.json()['errors'][0]['details']\n",
    "        code = response.json()['status']\n",
    "        if details == \"null\":\n",
    "            details = \"\"     \n",
    "        else:\n",
    "            details = f\"Details: {details}\"\n",
    "        response_message = f\"{error} Code:{code}....{details}\"\n",
    "        return response_message\n",
    "    \n",
    "mmr = get_mmr(puuid, api_key, 'na')\n",
    "\n",
    "export_to_file(mmr, \"data/name/\", f\"{name}_mmr.json\")\n",
    "print(mmr)"
   ]
  },
  {
   "cell_type": "code",
   "execution_count": 7,
   "metadata": {},
   "outputs": [
    {
     "data": {
      "text/plain": [
       "'kingston'"
      ]
     },
     "execution_count": 7,
     "metadata": {},
     "output_type": "execute_result"
    }
   ],
   "source": [
    "name"
   ]
  }
 ],
 "metadata": {
  "kernelspec": {
   "display_name": "127hw4",
   "language": "python",
   "name": "python3"
  },
  "language_info": {
   "codemirror_mode": {
    "name": "ipython",
    "version": 3
   },
   "file_extension": ".py",
   "mimetype": "text/x-python",
   "name": "python",
   "nbconvert_exporter": "python",
   "pygments_lexer": "ipython3",
   "version": "3.11.0"
  }
 },
 "nbformat": 4,
 "nbformat_minor": 2
}
