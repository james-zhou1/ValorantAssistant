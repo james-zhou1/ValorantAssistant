{
 "cells": [
  {
   "cell_type": "code",
   "execution_count": 1,
   "metadata": {},
   "outputs": [],
   "source": [
    "from Backend.GEA_database_management import *\n",
    "from Backend.GEA_classified import *\n",
    "from Backend.GEA_transformation_functions import get_ranked_matches\n",
    "\n"
   ]
  },
  {
   "cell_type": "code",
   "execution_count": null,
   "metadata": {},
   "outputs": [],
   "source": [
    "update_rank_data_db('silver_data_GEA', {'name': 'GEA ClickMouse', 'tag': '9338'}, 0)"
   ]
  },
  {
   "cell_type": "markdown",
   "metadata": {},
   "source": []
  },
  {
   "cell_type": "code",
   "execution_count": 1,
   "metadata": {},
   "outputs": [],
   "source": [
    "# #I used this code to test if all match IDs are unique or not\n",
    "# from GEA_transformation_functions import get_all_location_data\n",
    "\n",
    "\n",
    "# allmatches = get_examined_matches('GEA_data_GEA')\n",
    "# allmatches = list(allmatches)\n",
    "\n",
    "# clear_collection('fixed_data_GEA', 'GEA_data_GEA')\n",
    "# examined = set()\n",
    "# test_GEA_struct = get_all_location_data(\"\", allmatches, examined_matches=examined)\n",
    "\n",
    "\n",
    "# store_examined_matches('GEA_data_GEA', examined)\n",
    "# append_fixed_data_GEA('GEA_data_GEA', test_GEA_struct)\n"
   ]
  },
  {
   "cell_type": "code",
   "execution_count": null,
   "metadata": {},
   "outputs": [],
   "source": []
  },
  {
   "cell_type": "code",
   "execution_count": 3,
   "metadata": {},
   "outputs": [],
   "source": [
    "players_group_1 = [\n",
    "    {\n",
    "        'name': 'GEA OldAsian', \n",
    "        'tag': 'GEA'\n",
    "    }\n",
    "]\n",
    "players_group_2 = [\n",
    "    {\n",
    "        'name': 'GEA OldAsian', #test if duplicates are gone\n",
    "        'tag': 'GEA'\n",
    "    },\n",
    "    {\n",
    "        'name': 'GEA joli',\n",
    "        'tag': 'brrr'\n",
    "    }\n",
    "\n",
    "]\n",
    "players_group_all = [\n",
    "    {\n",
    "        'name': 'GEA OldAsian', \n",
    "        'tag': 'GEA'\n",
    "    },\n",
    "    {\n",
    "        'name': 'GEA joli',\n",
    "        'tag': 'brrr'\n",
    "    },\n",
    "    {\n",
    "        'name': 'GEA ClickMouse', \n",
    "        'tag': '9338'\n",
    "    },\n",
    "    {\n",
    "        'name': 'GEA SpringSwimmer',\n",
    "        'tag': 'brrr'\n",
    "    },\n",
    "    {\n",
    "        'name': 'GEA stoober',\n",
    "        'tag': 'TAG'\n",
    "    }\n",
    "\n",
    "]"
   ]
  },
  {
   "cell_type": "code",
   "execution_count": null,
   "metadata": {},
   "outputs": [],
   "source": []
  },
  {
   "cell_type": "code",
   "execution_count": null,
   "metadata": {},
   "outputs": [],
   "source": [
    "\n",
    "\n",
    "\n",
    "\n",
    "\n",
    "\n",
    "\n"
   ]
  },
  {
   "cell_type": "code",
   "execution_count": null,
   "metadata": {},
   "outputs": [],
   "source": [
    "update_leaderboard_data_db('e8a1')"
   ]
  }
 ],
 "metadata": {
  "kernelspec": {
   "display_name": "Python 3",
   "language": "python",
   "name": "python3"
  },
  "language_info": {
   "codemirror_mode": {
    "name": "ipython",
    "version": 3
   },
   "file_extension": ".py",
   "mimetype": "text/x-python",
   "name": "python",
   "nbconvert_exporter": "python",
   "pygments_lexer": "ipython3",
   "version": "3.12.8"
  }
 },
 "nbformat": 4,
 "nbformat_minor": 2
}
