{
 "cells": [
  {
   "cell_type": "code",
   "execution_count": 1,
   "metadata": {},
   "outputs": [
    {
     "name": "stderr",
     "output_type": "stream",
     "text": [
      "C:\\Users\\12406\\AppData\\Local\\Temp\\ipykernel_35412\\3982921512.py:2: DeprecationWarning: \n",
      "Pyarrow will become a required dependency of pandas in the next major release of pandas (pandas 3.0),\n",
      "(to allow more performant data types, such as the Arrow string type, and better interoperability with other libraries)\n",
      "but was not found to be installed on your system.\n",
      "If this would cause problems for you,\n",
      "please provide us feedback at https://github.com/pandas-dev/pandas/issues/54466\n",
      "        \n",
      "  import pandas as pd\n"
     ]
    }
   ],
   "source": [
    "import sqlite3\n",
    "import pandas as pd\n",
    "\n",
    "# Connect to the SQLite database\n",
    "conn = sqlite3.connect('valorant.sqlite')\n",
    "\n",
    "# Load data from the database into a pandas DataFrame\n",
    "# Using the table names based on the dataset structure from Kaggle\n",
    "# Reference: https://www.kaggle.com/datasets/visualize25/valorant-pro-matches-full-data\n",
    "query_matches = \"SELECT * FROM Matches\"\n",
    "query_game = \"SELECT * FROM Games\"\n",
    "query_game_rounds = \"SELECT * FROM Game_Rounds\"\n",
    "query_game_scoreboard = \"SELECT * FROM Game_Scoreboard\"\n",
    "\n",
    "df_matches = pd.read_sql_query(query_matches, conn)\n",
    "df_game = pd.read_sql_query(query_game, conn)\n",
    "df_game_rounds = pd.read_sql_query(query_game_rounds, conn)\n",
    "df_game_scoreboard = pd.read_sql_query(query_game_scoreboard, conn)\n",
    "\n",
    "# Close the connection\n",
    "conn.close()"
   ]
  },
  {
   "cell_type": "code",
   "execution_count": 2,
   "metadata": {},
   "outputs": [
    {
     "data": {
      "text/html": [
       "<div>\n",
       "<style scoped>\n",
       "    .dataframe tbody tr th:only-of-type {\n",
       "        vertical-align: middle;\n",
       "    }\n",
       "\n",
       "    .dataframe tbody tr th {\n",
       "        vertical-align: top;\n",
       "    }\n",
       "\n",
       "    .dataframe thead th {\n",
       "        text-align: right;\n",
       "    }\n",
       "</style>\n",
       "<table border=\"1\" class=\"dataframe\">\n",
       "  <thead>\n",
       "    <tr style=\"text-align: right;\">\n",
       "      <th></th>\n",
       "      <th>GameID</th>\n",
       "      <th>Team1ID</th>\n",
       "      <th>Team2ID</th>\n",
       "      <th>RoundHistory</th>\n",
       "    </tr>\n",
       "  </thead>\n",
       "  <tbody>\n",
       "    <tr>\n",
       "      <th>0</th>\n",
       "      <td>60894</td>\n",
       "      <td>6903</td>\n",
       "      <td>6020</td>\n",
       "      <td>{1: {'RoundWinner': 'BOOS', 'ScoreAfterRound':...</td>\n",
       "    </tr>\n",
       "    <tr>\n",
       "      <th>1</th>\n",
       "      <td>60895</td>\n",
       "      <td>6903</td>\n",
       "      <td>6020</td>\n",
       "      <td>{1: {'RoundWinner': 'PHO ', 'ScoreAfterRound':...</td>\n",
       "    </tr>\n",
       "    <tr>\n",
       "      <th>2</th>\n",
       "      <td>60896</td>\n",
       "      <td>6903</td>\n",
       "      <td>6020</td>\n",
       "      <td>{1: {'RoundWinner': 'PHO ', 'ScoreAfterRound':...</td>\n",
       "    </tr>\n",
       "    <tr>\n",
       "      <th>3</th>\n",
       "      <td>60924</td>\n",
       "      <td>7046</td>\n",
       "      <td>7047</td>\n",
       "      <td>{1: {'RoundWinner': 'BJOR', 'ScoreAfterRound':...</td>\n",
       "    </tr>\n",
       "    <tr>\n",
       "      <th>4</th>\n",
       "      <td>60925</td>\n",
       "      <td>7046</td>\n",
       "      <td>7047</td>\n",
       "      <td>{1: {'RoundWinner': 'BJOR', 'ScoreAfterRound':...</td>\n",
       "    </tr>\n",
       "  </tbody>\n",
       "</table>\n",
       "</div>"
      ],
      "text/plain": [
       "  GameID  Team1ID  Team2ID                                       RoundHistory\n",
       "0  60894     6903     6020  {1: {'RoundWinner': 'BOOS', 'ScoreAfterRound':...\n",
       "1  60895     6903     6020  {1: {'RoundWinner': 'PHO ', 'ScoreAfterRound':...\n",
       "2  60896     6903     6020  {1: {'RoundWinner': 'PHO ', 'ScoreAfterRound':...\n",
       "3  60924     7046     7047  {1: {'RoundWinner': 'BJOR', 'ScoreAfterRound':...\n",
       "4  60925     7046     7047  {1: {'RoundWinner': 'BJOR', 'ScoreAfterRound':..."
      ]
     },
     "execution_count": 2,
     "metadata": {},
     "output_type": "execute_result"
    }
   ],
   "source": [
    "df_game_rounds.head()"
   ]
  },
  {
   "cell_type": "code",
   "execution_count": 3,
   "metadata": {},
   "outputs": [
    {
     "data": {
      "text/plain": [
       "\"{1: {'RoundWinner': 'BOOS', 'ScoreAfterRound': '1-0', 'WinType': 'elim', 'Team1Bank': 300.0, 'Team2Bank': 100.0, 'Team1BuyType': 'eco', 'Team2BuyType': 'eco'}, 2: {'RoundWinner': 'BOOS', 'ScoreAfterRound': '2-0', 'WinType': 'elim', 'Team1Bank': 2700.0, 'Team2Bank': 8600.0, 'Team1BuyType': 'semi-buy', 'Team2BuyType': 'eco'}, 3: {'RoundWinner': 'BOOS', 'ScoreAfterRound': '3-0', 'WinType': 'elim', 'Team1Bank': 12300.0, 'Team2Bank': 400.0, 'Team1BuyType': 'semi-buy', 'Team2BuyType': 'full-buy'}, 4: {'RoundWinner': 'BOOS', 'ScoreAfterRound': '4-0', 'WinType': 'elim', 'Team1Bank': 23600.0, 'Team2Bank': 9800.0, 'Team1BuyType': 'full-buy', 'Team2BuyType': 'semi-eco'}, 5: {'RoundWinner': 'PHO ', 'ScoreAfterRound': '4-1', 'WinType': 'boom', 'Team1Bank': 24200.0, 'Team2Bank': 3300.0, 'Team1BuyType': 'full-buy', 'Team2BuyType': 'full-buy'}, 6: {'RoundWinner': 'PHO ', 'ScoreAfterRound': '4-2', 'WinType': 'boom', 'Team1Bank': 10200.0, 'Team2Bank': 10300.0, 'Team1BuyType': 'full-buy', 'Team2BuyType': 'full-buy'}, 7: {'RoundWinner': 'BOOS', 'ScoreAfterRound': '5-2', 'WinType': 'elim', 'Team1Bank': 5700.0, 'Team2Bank': 8900.0, 'Team1BuyType': 'full-buy', 'Team2BuyType': 'full-buy'}, 8: {'RoundWinner': 'BOOS', 'ScoreAfterRound': '6-2', 'WinType': 'time', 'Team1Bank': 6400.0, 'Team2Bank': 2400.0, 'Team1BuyType': 'full-buy', 'Team2BuyType': 'semi-buy'}, 9: {'RoundWinner': 'BOOS', 'ScoreAfterRound': '7-2', 'WinType': 'elim', 'Team1Bank': 10900.0, 'Team2Bank': 5900.0, 'Team1BuyType': 'full-buy', 'Team2BuyType': 'semi-buy'}, 10: {'RoundWinner': 'PHO ', 'ScoreAfterRound': '7-3', 'WinType': 'boom', 'Team1Bank': 16500.0, 'Team2Bank': 1200.0, 'Team1BuyType': 'full-buy', 'Team2BuyType': 'full-buy'}, 11: {'RoundWinner': 'PHO ', 'ScoreAfterRound': '7-4', 'WinType': 'elim', 'Team1Bank': 6800.0, 'Team2Bank': 12300.0, 'Team1BuyType': 'full-buy', 'Team2BuyType': 'full-buy'}, 12: {'RoundWinner': 'PHO ', 'ScoreAfterRound': '7-5', 'WinType': 'elim', 'Team1Bank': 900.0, 'Team2Bank': 9700.0, 'Team1BuyType': 'semi-buy', 'Team2BuyType': 'full-buy'}, 13: {'RoundWinner': 'BOOS', 'ScoreAfterRound': '8-5', 'WinType': 'elim', 'Team1Bank': 300.0, 'Team2Bank': 100.0, 'Team1BuyType': 'eco', 'Team2BuyType': 'eco'}, 14: {'RoundWinner': 'BOOS', 'ScoreAfterRound': '9-5', 'WinType': 'elim', 'Team1Bank': 3000.0, 'Team2Bank': 8200.0, 'Team1BuyType': 'semi-buy', 'Team2BuyType': 'eco'}, 15: {'RoundWinner': 'PHO ', 'ScoreAfterRound': '9-6', 'WinType': 'elim', 'Team1Bank': 11900.0, 'Team2Bank': 500.0, 'Team1BuyType': 'semi-buy', 'Team2BuyType': 'full-buy'}, 16: {'RoundWinner': 'BOOS', 'ScoreAfterRound': '10-6', 'WinType': 'elim', 'Team1Bank': 1900.0, 'Team2Bank': 9200.0, 'Team1BuyType': 'full-buy', 'Team2BuyType': 'full-buy'}, 17: {'RoundWinner': 'PHO ', 'ScoreAfterRound': '10-7', 'WinType': 'elim', 'Team1Bank': 12200.0, 'Team2Bank': 700.0, 'Team1BuyType': 'full-buy', 'Team2BuyType': 'semi-buy'}, 18: {'RoundWinner': 'BOOS', 'ScoreAfterRound': '11-7', 'WinType': 'elim', 'Team1Bank': 3700.0, 'Team2Bank': 6500.0, 'Team1BuyType': 'full-buy', 'Team2BuyType': 'full-buy'}, 19: {'RoundWinner': 'BOOS', 'ScoreAfterRound': '12-7', 'WinType': 'elim', 'Team1Bank': 3900.0, 'Team2Bank': 9100.0, 'Team1BuyType': 'full-buy', 'Team2BuyType': 'semi-eco'}, 20: {'RoundWinner': 'BOOS', 'ScoreAfterRound': '13-7', 'WinType': 'elim', 'Team1Bank': 3600.0, 'Team2Bank': 3500.0, 'Team1BuyType': 'full-buy', 'Team2BuyType': 'semi-buy'}}\""
      ]
     },
     "execution_count": 3,
     "metadata": {},
     "output_type": "execute_result"
    }
   ],
   "source": [
    "df_game_rounds.iloc[0][\"RoundHistory\"]"
   ]
  },
  {
   "cell_type": "code",
   "execution_count": 4,
   "metadata": {},
   "outputs": [
    {
     "data": {
      "text/plain": [
       "\"{1: {'RoundWinner': 'PHO ', 'ScoreAfterRound': '0-1', 'WinType': 'elim', 'Team1Bank': 200.0, 'Team2Bank': 400.0, 'Team1BuyType': 'eco', 'Team2BuyType': 'eco'}, 2: {'RoundWinner': 'PHO ', 'ScoreAfterRound': '0-2', 'WinType': 'elim', 'Team1Bank': 8300.0, 'Team2Bank': 1700.0, 'Team1BuyType': 'eco', 'Team2BuyType': 'semi-buy'}, 3: {'RoundWinner': 'BOOS', 'ScoreAfterRound': '1-2', 'WinType': 'defuse', 'Team1Bank': 500.0, 'Team2Bank': 13600.0, 'Team1BuyType': 'full-buy', 'Team2BuyType': 'semi-buy'}, 4: {'RoundWinner': 'PHO ', 'ScoreAfterRound': '1-3', 'WinType': 'boom', 'Team1Bank': 3900.0, 'Team2Bank': 3100.0, 'Team1BuyType': 'semi-buy', 'Team2BuyType': 'full-buy'}, 5: {'RoundWinner': 'PHO ', 'ScoreAfterRound': '1-4', 'WinType': 'elim', 'Team1Bank': 8900.0, 'Team2Bank': 7000.0, 'Team1BuyType': 'semi-eco', 'Team2BuyType': 'full-buy'}, 6: {'RoundWinner': 'PHO ', 'ScoreAfterRound': '1-5', 'WinType': 'elim', 'Team1Bank': 1700.0, 'Team2Bank': 23000.0, 'Team1BuyType': 'full-buy', 'Team2BuyType': 'full-buy'}, 7: {'RoundWinner': 'PHO ', 'ScoreAfterRound': '1-6', 'WinType': 'elim', 'Team1Bank': 7700.0, 'Team2Bank': 28100.0, 'Team1BuyType': 'semi-eco', 'Team2BuyType': 'full-buy'}, 8: {'RoundWinner': 'PHO ', 'ScoreAfterRound': '1-7', 'WinType': 'elim', 'Team1Bank': 1300.0, 'Team2Bank': 35300.0, 'Team1BuyType': 'full-buy', 'Team2BuyType': 'full-buy'}, 9: {'RoundWinner': 'PHO ', 'ScoreAfterRound': '1-8', 'WinType': 'elim', 'Team1Bank': 7700.0, 'Team2Bank': 28500.0, 'Team1BuyType': 'semi-eco', 'Team2BuyType': 'full-buy'}, 10: {'RoundWinner': 'PHO ', 'ScoreAfterRound': '1-9', 'WinType': 'elim', 'Team1Bank': 1800.0, 'Team2Bank': 28200.0, 'Team1BuyType': 'full-buy', 'Team2BuyType': 'full-buy'}, 11: {'RoundWinner': 'PHO ', 'ScoreAfterRound': '1-10', 'WinType': 'elim', 'Team1Bank': 500.0, 'Team2Bank': 29200.0, 'Team1BuyType': 'semi-buy', 'Team2BuyType': 'full-buy'}, 12: {'RoundWinner': 'BOOS', 'ScoreAfterRound': '2-10', 'WinType': 'elim', 'Team1Bank': 1000.0, 'Team2Bank': 21800.0, 'Team1BuyType': 'semi-buy', 'Team2BuyType': 'full-buy'}, 13: {'RoundWinner': 'PHO ', 'ScoreAfterRound': '2-11', 'WinType': 'elim', 'Team1Bank': 200.0, 'Team2Bank': 100.0, 'Team1BuyType': 'eco', 'Team2BuyType': 'eco'}, 14: {'RoundWinner': 'PHO ', 'ScoreAfterRound': '2-12', 'WinType': 'elim', 'Team1Bank': 600.0, 'Team2Bank': 300.0, 'Team1BuyType': 'semi-buy', 'Team2BuyType': 'semi-buy'}, 15: {'RoundWinner': 'PHO ', 'ScoreAfterRound': '2-13', 'WinType': 'elim', 'Team1Bank': 800.0, 'Team2Bank': 12500.0, 'Team1BuyType': 'semi-buy', 'Team2BuyType': 'semi-buy'}}\""
      ]
     },
     "execution_count": 4,
     "metadata": {},
     "output_type": "execute_result"
    }
   ],
   "source": [
    "df_game_rounds.iloc[1][\"RoundHistory\"]"
   ]
  },
  {
   "cell_type": "code",
   "execution_count": 5,
   "metadata": {},
   "outputs": [
    {
     "name": "stdout",
     "output_type": "stream",
     "text": [
      "{'Match_1, Round_2': {'RoundWinner': 'BOOS', 'ScoreAfterRound': '1-0', 'WinType': 'elim', 'Team1Bank': 300.0, 'Team2Bank': 100.0, 'Team1BuyType': 'eco', 'Team2BuyType': 'eco'}, 'Match_1, Round_3': {'RoundWinner': 'BOOS', 'ScoreAfterRound': '2-0', 'WinType': 'elim', 'Team1Bank': 2700.0, 'Team2Bank': 8600.0, 'Team1BuyType': 'semi-buy', 'Team2BuyType': 'eco'}, 'Match_1, Round_4': {'RoundWinner': 'BOOS', 'ScoreAfterRound': '3-0', 'WinType': 'elim', 'Team1Bank': 12300.0, 'Team2Bank': 400.0, 'Team1BuyType': 'semi-buy', 'Team2BuyType': 'full-buy'}, 'Match_1, Round_5': {'RoundWinner': 'BOOS', 'ScoreAfterRound': '4-0', 'WinType': 'elim', 'Team1Bank': 23600.0, 'Team2Bank': 9800.0, 'Team1BuyType': 'full-buy', 'Team2BuyType': 'semi-eco'}, 'Match_1, Round_6': {'RoundWinner': 'PHO ', 'ScoreAfterRound': '4-1', 'WinType': 'boom', 'Team1Bank': 24200.0, 'Team2Bank': 3300.0, 'Team1BuyType': 'full-buy', 'Team2BuyType': 'full-buy'}, 'Match_1, Round_7': {'RoundWinner': 'PHO ', 'ScoreAfterRound': '4-2', 'WinType': 'boom', 'Team1Bank': 10200.0, 'Team2Bank': 10300.0, 'Team1BuyType': 'full-buy', 'Team2BuyType': 'full-buy'}, 'Match_1, Round_8': {'RoundWinner': 'BOOS', 'ScoreAfterRound': '5-2', 'WinType': 'elim', 'Team1Bank': 5700.0, 'Team2Bank': 8900.0, 'Team1BuyType': 'full-buy', 'Team2BuyType': 'full-buy'}, 'Match_1, Round_9': {'RoundWinner': 'BOOS', 'ScoreAfterRound': '6-2', 'WinType': 'time', 'Team1Bank': 6400.0, 'Team2Bank': 2400.0, 'Team1BuyType': 'full-buy', 'Team2BuyType': 'semi-buy'}, 'Match_1, Round_10': {'RoundWinner': 'BOOS', 'ScoreAfterRound': '7-2', 'WinType': 'elim', 'Team1Bank': 10900.0, 'Team2Bank': 5900.0, 'Team1BuyType': 'full-buy', 'Team2BuyType': 'semi-buy'}, 'Match_1, Round_11': {'RoundWinner': 'PHO ', 'ScoreAfterRound': '7-3', 'WinType': 'boom', 'Team1Bank': 16500.0, 'Team2Bank': 1200.0, 'Team1BuyType': 'full-buy', 'Team2BuyType': 'full-buy'}, 'Match_1, Round_12': {'RoundWinner': 'PHO ', 'ScoreAfterRound': '7-4', 'WinType': 'elim', 'Team1Bank': 6800.0, 'Team2Bank': 12300.0, 'Team1BuyType': 'full-buy', 'Team2BuyType': 'full-buy'}, 'Match_1, Round_13': {'RoundWinner': 'PHO ', 'ScoreAfterRound': '7-5', 'WinType': 'elim', 'Team1Bank': 900.0, 'Team2Bank': 9700.0, 'Team1BuyType': 'semi-buy', 'Team2BuyType': 'full-buy'}, 'Match_1, Round_14': {'RoundWinner': 'BOOS', 'ScoreAfterRound': '8-5', 'WinType': 'elim', 'Team1Bank': 300.0, 'Team2Bank': 100.0, 'Team1BuyType': 'eco', 'Team2BuyType': 'eco'}, 'Match_1, Round_15': {'RoundWinner': 'BOOS', 'ScoreAfterRound': '9-5', 'WinType': 'elim', 'Team1Bank': 3000.0, 'Team2Bank': 8200.0, 'Team1BuyType': 'semi-buy', 'Team2BuyType': 'eco'}, 'Match_1, Round_16': {'RoundWinner': 'PHO ', 'ScoreAfterRound': '9-6', 'WinType': 'elim', 'Team1Bank': 11900.0, 'Team2Bank': 500.0, 'Team1BuyType': 'semi-buy', 'Team2BuyType': 'full-buy'}, 'Match_1, Round_17': {'RoundWinner': 'BOOS', 'ScoreAfterRound': '10-6', 'WinType': 'elim', 'Team1Bank': 1900.0, 'Team2Bank': 9200.0, 'Team1BuyType': 'full-buy', 'Team2BuyType': 'full-buy'}, 'Match_1, Round_18': {'RoundWinner': 'PHO ', 'ScoreAfterRound': '10-7', 'WinType': 'elim', 'Team1Bank': 12200.0, 'Team2Bank': 700.0, 'Team1BuyType': 'full-buy', 'Team2BuyType': 'semi-buy'}, 'Match_1, Round_19': {'RoundWinner': 'BOOS', 'ScoreAfterRound': '11-7', 'WinType': 'elim', 'Team1Bank': 3700.0, 'Team2Bank': 6500.0, 'Team1BuyType': 'full-buy', 'Team2BuyType': 'full-buy'}, 'Match_1, Round_20': {'RoundWinner': 'BOOS', 'ScoreAfterRound': '12-7', 'WinType': 'elim', 'Team1Bank': 3900.0, 'Team2Bank': 9100.0, 'Team1BuyType': 'full-buy', 'Team2BuyType': 'semi-eco'}, 'Match_1, Round_21': {'RoundWinner': 'BOOS', 'ScoreAfterRound': '13-7', 'WinType': 'elim', 'Team1Bank': 3600.0, 'Team2Bank': 3500.0, 'Team1BuyType': 'full-buy', 'Team2BuyType': 'semi-buy'}, 'Match_2, Round_2': {'RoundWinner': 'PHO ', 'ScoreAfterRound': '0-1', 'WinType': 'elim', 'Team1Bank': 200.0, 'Team2Bank': 400.0, 'Team1BuyType': 'eco', 'Team2BuyType': 'eco'}, 'Match_2, Round_3': {'RoundWinner': 'PHO ', 'ScoreAfterRound': '0-2', 'WinType': 'elim', 'Team1Bank': 8300.0, 'Team2Bank': 1700.0, 'Team1BuyType': 'eco', 'Team2BuyType': 'semi-buy'}, 'Match_2, Round_4': {'RoundWinner': 'BOOS', 'ScoreAfterRound': '1-2', 'WinType': 'defuse', 'Team1Bank': 500.0, 'Team2Bank': 13600.0, 'Team1BuyType': 'full-buy', 'Team2BuyType': 'semi-buy'}, 'Match_2, Round_5': {'RoundWinner': 'PHO ', 'ScoreAfterRound': '1-3', 'WinType': 'boom', 'Team1Bank': 3900.0, 'Team2Bank': 3100.0, 'Team1BuyType': 'semi-buy', 'Team2BuyType': 'full-buy'}, 'Match_2, Round_6': {'RoundWinner': 'PHO ', 'ScoreAfterRound': '1-4', 'WinType': 'elim', 'Team1Bank': 8900.0, 'Team2Bank': 7000.0, 'Team1BuyType': 'semi-eco', 'Team2BuyType': 'full-buy'}, 'Match_2, Round_7': {'RoundWinner': 'PHO ', 'ScoreAfterRound': '1-5', 'WinType': 'elim', 'Team1Bank': 1700.0, 'Team2Bank': 23000.0, 'Team1BuyType': 'full-buy', 'Team2BuyType': 'full-buy'}, 'Match_2, Round_8': {'RoundWinner': 'PHO ', 'ScoreAfterRound': '1-6', 'WinType': 'elim', 'Team1Bank': 7700.0, 'Team2Bank': 28100.0, 'Team1BuyType': 'semi-eco', 'Team2BuyType': 'full-buy'}, 'Match_2, Round_9': {'RoundWinner': 'PHO ', 'ScoreAfterRound': '1-7', 'WinType': 'elim', 'Team1Bank': 1300.0, 'Team2Bank': 35300.0, 'Team1BuyType': 'full-buy', 'Team2BuyType': 'full-buy'}, 'Match_2, Round_10': {'RoundWinner': 'PHO ', 'ScoreAfterRound': '1-8', 'WinType': 'elim', 'Team1Bank': 7700.0, 'Team2Bank': 28500.0, 'Team1BuyType': 'semi-eco', 'Team2BuyType': 'full-buy'}, 'Match_2, Round_11': {'RoundWinner': 'PHO ', 'ScoreAfterRound': '1-9', 'WinType': 'elim', 'Team1Bank': 1800.0, 'Team2Bank': 28200.0, 'Team1BuyType': 'full-buy', 'Team2BuyType': 'full-buy'}, 'Match_2, Round_12': {'RoundWinner': 'PHO ', 'ScoreAfterRound': '1-10', 'WinType': 'elim', 'Team1Bank': 500.0, 'Team2Bank': 29200.0, 'Team1BuyType': 'semi-buy', 'Team2BuyType': 'full-buy'}, 'Match_2, Round_13': {'RoundWinner': 'BOOS', 'ScoreAfterRound': '2-10', 'WinType': 'elim', 'Team1Bank': 1000.0, 'Team2Bank': 21800.0, 'Team1BuyType': 'semi-buy', 'Team2BuyType': 'full-buy'}, 'Match_2, Round_14': {'RoundWinner': 'PHO ', 'ScoreAfterRound': '2-11', 'WinType': 'elim', 'Team1Bank': 200.0, 'Team2Bank': 100.0, 'Team1BuyType': 'eco', 'Team2BuyType': 'eco'}, 'Match_2, Round_15': {'RoundWinner': 'PHO ', 'ScoreAfterRound': '2-12', 'WinType': 'elim', 'Team1Bank': 600.0, 'Team2Bank': 300.0, 'Team1BuyType': 'semi-buy', 'Team2BuyType': 'semi-buy'}, 'Match_2, Round_16': {'RoundWinner': 'PHO ', 'ScoreAfterRound': '2-13', 'WinType': 'elim', 'Team1Bank': 800.0, 'Team2Bank': 12500.0, 'Team1BuyType': 'semi-buy', 'Team2BuyType': 'semi-buy'}}\n",
      "<class 'dict'>\n"
     ]
    }
   ],
   "source": [
    "all_rounds = {}\n",
    "for i in range(2):\n",
    "    round_history_str = df_game_rounds.iloc[i][\"RoundHistory\"]\n",
    "    if not round_history_str:\n",
    "        continue\n",
    "    corrected_str = round_history_str.replace(\"'\", '\"')\n",
    "    rounds = eval(corrected_str)\n",
    "\n",
    "    for j, round in rounds.items():\n",
    "        all_rounds[f\"Match_{i+1}, Round_{j+1}\"] = round\n",
    "print(all_rounds)\n",
    "print(type(all_rounds))\n"
   ]
  },
  {
   "cell_type": "code",
   "execution_count": 6,
   "metadata": {},
   "outputs": [
    {
     "name": "stdout",
     "output_type": "stream",
     "text": [
      "{'RoundWinner': 'BOOS', 'ScoreAfterRound': '1-0', 'WinType': 'elim', 'Team1Bank': 300.0, 'Team2Bank': 100.0, 'Team1BuyType': 'eco', 'Team2BuyType': 'eco'}\n",
      "<class 'dict'>\n",
      "{'RoundWinner': 'BOOS', 'ScoreAfterRound': '2-0', 'WinType': 'elim', 'Team1Bank': 2700.0, 'Team2Bank': 8600.0, 'Team1BuyType': 'semi-buy', 'Team2BuyType': 'eco'}\n",
      "<class 'dict'>\n",
      "{'RoundWinner': 'BOOS', 'ScoreAfterRound': '3-0', 'WinType': 'elim', 'Team1Bank': 12300.0, 'Team2Bank': 400.0, 'Team1BuyType': 'semi-buy', 'Team2BuyType': 'full-buy'}\n",
      "<class 'dict'>\n",
      "{'RoundWinner': 'BOOS', 'ScoreAfterRound': '4-0', 'WinType': 'elim', 'Team1Bank': 23600.0, 'Team2Bank': 9800.0, 'Team1BuyType': 'full-buy', 'Team2BuyType': 'semi-eco'}\n",
      "<class 'dict'>\n",
      "{'RoundWinner': 'PHO ', 'ScoreAfterRound': '4-1', 'WinType': 'boom', 'Team1Bank': 24200.0, 'Team2Bank': 3300.0, 'Team1BuyType': 'full-buy', 'Team2BuyType': 'full-buy'}\n",
      "<class 'dict'>\n",
      "{'RoundWinner': 'PHO ', 'ScoreAfterRound': '4-2', 'WinType': 'boom', 'Team1Bank': 10200.0, 'Team2Bank': 10300.0, 'Team1BuyType': 'full-buy', 'Team2BuyType': 'full-buy'}\n",
      "<class 'dict'>\n",
      "{'RoundWinner': 'BOOS', 'ScoreAfterRound': '5-2', 'WinType': 'elim', 'Team1Bank': 5700.0, 'Team2Bank': 8900.0, 'Team1BuyType': 'full-buy', 'Team2BuyType': 'full-buy'}\n",
      "<class 'dict'>\n",
      "{'RoundWinner': 'BOOS', 'ScoreAfterRound': '6-2', 'WinType': 'time', 'Team1Bank': 6400.0, 'Team2Bank': 2400.0, 'Team1BuyType': 'full-buy', 'Team2BuyType': 'semi-buy'}\n",
      "<class 'dict'>\n",
      "{'RoundWinner': 'BOOS', 'ScoreAfterRound': '7-2', 'WinType': 'elim', 'Team1Bank': 10900.0, 'Team2Bank': 5900.0, 'Team1BuyType': 'full-buy', 'Team2BuyType': 'semi-buy'}\n",
      "<class 'dict'>\n",
      "{'RoundWinner': 'PHO ', 'ScoreAfterRound': '7-3', 'WinType': 'boom', 'Team1Bank': 16500.0, 'Team2Bank': 1200.0, 'Team1BuyType': 'full-buy', 'Team2BuyType': 'full-buy'}\n",
      "<class 'dict'>\n",
      "{'RoundWinner': 'PHO ', 'ScoreAfterRound': '7-4', 'WinType': 'elim', 'Team1Bank': 6800.0, 'Team2Bank': 12300.0, 'Team1BuyType': 'full-buy', 'Team2BuyType': 'full-buy'}\n",
      "<class 'dict'>\n",
      "{'RoundWinner': 'PHO ', 'ScoreAfterRound': '7-5', 'WinType': 'elim', 'Team1Bank': 900.0, 'Team2Bank': 9700.0, 'Team1BuyType': 'semi-buy', 'Team2BuyType': 'full-buy'}\n",
      "<class 'dict'>\n",
      "{'RoundWinner': 'BOOS', 'ScoreAfterRound': '8-5', 'WinType': 'elim', 'Team1Bank': 300.0, 'Team2Bank': 100.0, 'Team1BuyType': 'eco', 'Team2BuyType': 'eco'}\n",
      "<class 'dict'>\n",
      "{'RoundWinner': 'BOOS', 'ScoreAfterRound': '9-5', 'WinType': 'elim', 'Team1Bank': 3000.0, 'Team2Bank': 8200.0, 'Team1BuyType': 'semi-buy', 'Team2BuyType': 'eco'}\n",
      "<class 'dict'>\n",
      "{'RoundWinner': 'PHO ', 'ScoreAfterRound': '9-6', 'WinType': 'elim', 'Team1Bank': 11900.0, 'Team2Bank': 500.0, 'Team1BuyType': 'semi-buy', 'Team2BuyType': 'full-buy'}\n",
      "<class 'dict'>\n",
      "{'RoundWinner': 'BOOS', 'ScoreAfterRound': '10-6', 'WinType': 'elim', 'Team1Bank': 1900.0, 'Team2Bank': 9200.0, 'Team1BuyType': 'full-buy', 'Team2BuyType': 'full-buy'}\n",
      "<class 'dict'>\n",
      "{'RoundWinner': 'PHO ', 'ScoreAfterRound': '10-7', 'WinType': 'elim', 'Team1Bank': 12200.0, 'Team2Bank': 700.0, 'Team1BuyType': 'full-buy', 'Team2BuyType': 'semi-buy'}\n",
      "<class 'dict'>\n",
      "{'RoundWinner': 'BOOS', 'ScoreAfterRound': '11-7', 'WinType': 'elim', 'Team1Bank': 3700.0, 'Team2Bank': 6500.0, 'Team1BuyType': 'full-buy', 'Team2BuyType': 'full-buy'}\n",
      "<class 'dict'>\n",
      "{'RoundWinner': 'BOOS', 'ScoreAfterRound': '12-7', 'WinType': 'elim', 'Team1Bank': 3900.0, 'Team2Bank': 9100.0, 'Team1BuyType': 'full-buy', 'Team2BuyType': 'semi-eco'}\n",
      "<class 'dict'>\n",
      "{'RoundWinner': 'BOOS', 'ScoreAfterRound': '13-7', 'WinType': 'elim', 'Team1Bank': 3600.0, 'Team2Bank': 3500.0, 'Team1BuyType': 'full-buy', 'Team2BuyType': 'semi-buy'}\n",
      "<class 'dict'>\n",
      "{'RoundWinner': 'PHO ', 'ScoreAfterRound': '0-1', 'WinType': 'elim', 'Team1Bank': 200.0, 'Team2Bank': 400.0, 'Team1BuyType': 'eco', 'Team2BuyType': 'eco'}\n",
      "<class 'dict'>\n",
      "{'RoundWinner': 'PHO ', 'ScoreAfterRound': '0-2', 'WinType': 'elim', 'Team1Bank': 8300.0, 'Team2Bank': 1700.0, 'Team1BuyType': 'eco', 'Team2BuyType': 'semi-buy'}\n",
      "<class 'dict'>\n",
      "{'RoundWinner': 'BOOS', 'ScoreAfterRound': '1-2', 'WinType': 'defuse', 'Team1Bank': 500.0, 'Team2Bank': 13600.0, 'Team1BuyType': 'full-buy', 'Team2BuyType': 'semi-buy'}\n",
      "<class 'dict'>\n",
      "{'RoundWinner': 'PHO ', 'ScoreAfterRound': '1-3', 'WinType': 'boom', 'Team1Bank': 3900.0, 'Team2Bank': 3100.0, 'Team1BuyType': 'semi-buy', 'Team2BuyType': 'full-buy'}\n",
      "<class 'dict'>\n",
      "{'RoundWinner': 'PHO ', 'ScoreAfterRound': '1-4', 'WinType': 'elim', 'Team1Bank': 8900.0, 'Team2Bank': 7000.0, 'Team1BuyType': 'semi-eco', 'Team2BuyType': 'full-buy'}\n",
      "<class 'dict'>\n",
      "{'RoundWinner': 'PHO ', 'ScoreAfterRound': '1-5', 'WinType': 'elim', 'Team1Bank': 1700.0, 'Team2Bank': 23000.0, 'Team1BuyType': 'full-buy', 'Team2BuyType': 'full-buy'}\n",
      "<class 'dict'>\n",
      "{'RoundWinner': 'PHO ', 'ScoreAfterRound': '1-6', 'WinType': 'elim', 'Team1Bank': 7700.0, 'Team2Bank': 28100.0, 'Team1BuyType': 'semi-eco', 'Team2BuyType': 'full-buy'}\n",
      "<class 'dict'>\n",
      "{'RoundWinner': 'PHO ', 'ScoreAfterRound': '1-7', 'WinType': 'elim', 'Team1Bank': 1300.0, 'Team2Bank': 35300.0, 'Team1BuyType': 'full-buy', 'Team2BuyType': 'full-buy'}\n",
      "<class 'dict'>\n",
      "{'RoundWinner': 'PHO ', 'ScoreAfterRound': '1-8', 'WinType': 'elim', 'Team1Bank': 7700.0, 'Team2Bank': 28500.0, 'Team1BuyType': 'semi-eco', 'Team2BuyType': 'full-buy'}\n",
      "<class 'dict'>\n",
      "{'RoundWinner': 'PHO ', 'ScoreAfterRound': '1-9', 'WinType': 'elim', 'Team1Bank': 1800.0, 'Team2Bank': 28200.0, 'Team1BuyType': 'full-buy', 'Team2BuyType': 'full-buy'}\n",
      "<class 'dict'>\n",
      "{'RoundWinner': 'PHO ', 'ScoreAfterRound': '1-10', 'WinType': 'elim', 'Team1Bank': 500.0, 'Team2Bank': 29200.0, 'Team1BuyType': 'semi-buy', 'Team2BuyType': 'full-buy'}\n",
      "<class 'dict'>\n",
      "{'RoundWinner': 'BOOS', 'ScoreAfterRound': '2-10', 'WinType': 'elim', 'Team1Bank': 1000.0, 'Team2Bank': 21800.0, 'Team1BuyType': 'semi-buy', 'Team2BuyType': 'full-buy'}\n",
      "<class 'dict'>\n",
      "{'RoundWinner': 'PHO ', 'ScoreAfterRound': '2-11', 'WinType': 'elim', 'Team1Bank': 200.0, 'Team2Bank': 100.0, 'Team1BuyType': 'eco', 'Team2BuyType': 'eco'}\n",
      "<class 'dict'>\n",
      "{'RoundWinner': 'PHO ', 'ScoreAfterRound': '2-12', 'WinType': 'elim', 'Team1Bank': 600.0, 'Team2Bank': 300.0, 'Team1BuyType': 'semi-buy', 'Team2BuyType': 'semi-buy'}\n",
      "<class 'dict'>\n",
      "{'RoundWinner': 'PHO ', 'ScoreAfterRound': '2-13', 'WinType': 'elim', 'Team1Bank': 800.0, 'Team2Bank': 12500.0, 'Team1BuyType': 'semi-buy', 'Team2BuyType': 'semi-buy'}\n",
      "<class 'dict'>\n",
      "    WinnerBank  LoserBank WinnerBuy\n",
      "0        300.0      100.0       eco\n",
      "1       2700.0     8600.0  semi-buy\n",
      "2      12300.0      400.0  semi-buy\n",
      "3      23600.0     9800.0  full-buy\n",
      "4       3300.0    24200.0  full-buy\n",
      "5      10300.0    10200.0  full-buy\n",
      "6       5700.0     8900.0  full-buy\n",
      "7       6400.0     2400.0  full-buy\n",
      "8      10900.0     5900.0  full-buy\n",
      "9       1200.0    16500.0  full-buy\n",
      "10     12300.0     6800.0  full-buy\n",
      "11      9700.0      900.0  full-buy\n",
      "12       300.0      100.0       eco\n",
      "13      3000.0     8200.0  semi-buy\n",
      "14       500.0    11900.0  full-buy\n",
      "15      1900.0     9200.0  full-buy\n",
      "16       700.0    12200.0  semi-buy\n",
      "17      3700.0     6500.0  full-buy\n",
      "18      3900.0     9100.0  full-buy\n",
      "19      3600.0     3500.0  full-buy\n",
      "20       400.0      200.0       eco\n",
      "21      1700.0     8300.0  semi-buy\n",
      "22       500.0    13600.0  full-buy\n",
      "23      3100.0     3900.0  full-buy\n",
      "24      7000.0     8900.0  full-buy\n",
      "25     23000.0     1700.0  full-buy\n",
      "26     28100.0     7700.0  full-buy\n",
      "27     35300.0     1300.0  full-buy\n",
      "28     28500.0     7700.0  full-buy\n",
      "29     28200.0     1800.0  full-buy\n",
      "30     29200.0      500.0  full-buy\n",
      "31      1000.0    21800.0  semi-buy\n",
      "32       100.0      200.0       eco\n",
      "33       300.0      600.0  semi-buy\n",
      "34     12500.0      800.0  semi-buy\n"
     ]
    }
   ],
   "source": [
    "import pandas as pd\n",
    "\n",
    "winner_bank = []\n",
    "loser_bank = []\n",
    "winner_buy = []\n",
    "\n",
    "for round_number, details in all_rounds.items():\n",
    "    \n",
    "    print(details)\n",
    "    print(type(details))\n",
    "    if details['RoundWinner'].strip() == 'BOOS':\n",
    "        winner_bank.append(details['Team1Bank'])\n",
    "        loser_bank.append(details['Team2Bank'])\n",
    "        winner_buy.append(details['Team1BuyType'])\n",
    "    else:\n",
    "        winner_bank.append(details['Team2Bank'])\n",
    "        loser_bank.append(details['Team1Bank'])\n",
    "        winner_buy.append(details['Team2BuyType'])\n",
    "\n",
    "rounds_df = pd.DataFrame({\n",
    "    'WinnerBank': winner_bank,\n",
    "    'LoserBank': loser_bank,\n",
    "    'WinnerBuy': winner_buy\n",
    "})\n",
    "\n",
    "print(rounds_df)\n",
    "\n"
   ]
  },
  {
   "cell_type": "code",
   "execution_count": 7,
   "metadata": {},
   "outputs": [
    {
     "name": "stdout",
     "output_type": "stream",
     "text": [
      "Accuracy: 0.8571428571428571\n",
      "Classification Report:\n",
      "               precision    recall  f1-score   support\n",
      "\n",
      "    full-buy       1.00      0.80      0.89         5\n",
      "    semi-buy       0.67      1.00      0.80         2\n",
      "\n",
      "    accuracy                           0.86         7\n",
      "   macro avg       0.83      0.90      0.84         7\n",
      "weighted avg       0.90      0.86      0.86         7\n",
      "\n"
     ]
    }
   ],
   "source": [
    "from sklearn.model_selection import train_test_split\n",
    "from sklearn.neighbors import KNeighborsClassifier\n",
    "from sklearn.preprocessing import StandardScaler\n",
    "from sklearn.metrics import classification_report, accuracy_score\n",
    "\n",
    "X = rounds_df[['WinnerBank', 'LoserBank']]\n",
    "y = rounds_df['WinnerBuy']\n",
    "X_train, X_test, y_train, y_test = train_test_split(X, y, test_size=0.2, random_state=42)\n",
    "scaler = StandardScaler()\n",
    "X_train_scaled = scaler.fit_transform(X_train)\n",
    "X_test_scaled = scaler.transform(X_test)\n",
    "knn = KNeighborsClassifier(n_neighbors=1)\n",
    "knn.fit(X_train_scaled, y_train)\n",
    "y_pred = knn.predict(X_test_scaled)\n",
    "print(\"Accuracy:\", accuracy_score(y_test, y_pred))\n",
    "print(\"Classification Report:\\n\", classification_report(y_test, y_pred))\n"
   ]
  },
  {
   "cell_type": "code",
   "execution_count": 8,
   "metadata": {},
   "outputs": [
    {
     "name": "stdout",
     "output_type": "stream",
     "text": [
      "['full-buy' 'semi-buy' 'full-buy' 'semi-buy' 'semi-buy' 'full-buy'\n",
      " 'full-buy']\n"
     ]
    }
   ],
   "source": [
    "print(y_pred)"
   ]
  },
  {
   "cell_type": "code",
   "execution_count": 9,
   "metadata": {},
   "outputs": [
    {
     "name": "stderr",
     "output_type": "stream",
     "text": [
      "c:\\Users\\12406\\anaconda3\\envs\\127hw4\\Lib\\site-packages\\sklearn\\base.py:493: UserWarning: X does not have valid feature names, but StandardScaler was fitted with feature names\n",
      "  warnings.warn(\n"
     ]
    },
    {
     "data": {
      "image/png": "[encoded data removed]",
      "text/plain": [
       "<Figure size 800x600 with 1 Axes>"
      ]
     },
     "metadata": {},
     "output_type": "display_data"
    }
   ],
   "source": [
    "import numpy as np\n",
    "import matplotlib.pyplot as plt\n",
    "\n",
    "def plot_decision_boundary(X, y, model, scaler, original_X, steps=1000, cmap='Paired'):\n",
    "    x_min, x_max = original_X[:, 0].min() - 1, original_X[:, 0].max() + 1\n",
    "    y_min, y_max = original_X[:, 1].min() - 1, original_X[:, 1].max() + 1\n",
    "    xx, yy = np.meshgrid(np.linspace(x_min, x_max, steps), np.linspace(y_min, y_max, steps))\n",
    "    \n",
    "    mesh_scaled = scaler.transform(np.c_[xx.ravel(), yy.ravel()])\n",
    "    \n",
    "    Z = model.predict(mesh_scaled)\n",
    "    Z = Z.reshape(xx.shape)\n",
    "    \n",
    "    unique_classes = np.unique(y)\n",
    "    class_to_int = {k: v for v, k in enumerate(unique_classes)}\n",
    "    Z_numeric = np.vectorize(class_to_int.get)(Z)\n",
    "    \n",
    "    plt.figure(figsize=(8, 6))\n",
    "    plt.contourf(xx, yy, Z_numeric, alpha=0.8, cmap=cmap)\n",
    "    y_numeric = np.vectorize(class_to_int.get)(y)\n",
    "    plt.scatter(original_X[:, 0], original_X[:, 1], c=y_numeric, s=20, edgecolor='k', cmap=cmap)\n",
    "    plt.xlabel('Winner Bank')\n",
    "    plt.ylabel('Loser Bank')\n",
    "    plt.title('THE SECRET GEA BUYING ASSISTANT')\n",
    "    plt.show()\n",
    "\n",
    "plot_decision_boundary(X_train_scaled, y_train, knn, scaler, X_train.values)\n"
   ]
  }
 ],
 "metadata": {
  "kernelspec": {
   "display_name": "127hw4",
   "language": "python",
   "name": "python3"
  },
  "language_info": {
   "codemirror_mode": {
    "name": "ipython",
    "version": 3
   },
   "file_extension": ".py",
   "mimetype": "text/x-python",
   "name": "python",
   "nbconvert_exporter": "python",
   "pygments_lexer": "ipython3",
   "version": "3.11.0"
  }
 },
 "nbformat": 4,
 "nbformat_minor": 2
}
